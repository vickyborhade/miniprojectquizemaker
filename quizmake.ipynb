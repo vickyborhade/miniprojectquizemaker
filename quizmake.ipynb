{
 "cells": [
  {
   "cell_type": "code",
   "execution_count": 2,
   "id": "1053918f",
   "metadata": {},
   "outputs": [],
   "source": [
    "import random\n",
    "\n",
    "# The quiz data. Keys are states and values are their capitals.\n",
    "capitals = {'Alabama': 'Montgomery', 'Alaska': 'Juneau', 'Arizona': 'Phoenix',\n",
    "'Arkansas': 'Little Rock', 'California': 'Sacramento', 'Colorado': 'Denver',\n",
    "'Connecticut': 'Hartford', 'Delaware': 'Dover', 'Florida': 'Tallahassee',\n",
    "'Georgia': 'Atlanta', 'Hawaii': 'Honolulu', 'Idaho': 'Boise', 'Illinois':\n",
    "'Springfield', 'Indiana': 'Indianapolis', 'Iowa': 'Des Moines', 'Kansas':\n",
    "'Topeka', 'Kentucky': 'Frankfort', 'Louisiana': 'Baton Rouge', 'Maine':\n",
    "'Augusta', 'Maryland': 'Annapolis', 'Massachusetts': 'Boston', 'Michigan':\n",
    "'Lansing', 'Minnesota': 'Saint Paul', 'Mississippi': 'Jackson', 'Missouri':\n",
    "'Jefferson City', 'Montana': 'Helena', 'Nebraska': 'Lincoln', 'Nevada':\n",
    "'Carson City', 'New Hampshire': 'Concord', 'New Jersey': 'Trenton', 'New Mexico': 'Santa Fe',\n",
    "'New York': 'Albany', 'North Carolina': 'Raleigh',\n",
    "'North Dakota': 'Bismarck', 'Ohio': 'Columbus', 'Oklahoma': 'Oklahoma City',\n",
    "'Oregon': 'Salem', 'Pennsylvania': 'Harrisburg', 'Rhode Island': 'Providence',\n",
    "'South Carolina': 'Columbia', 'South Dakota': 'Pierre', 'Tennessee':\n",
    "'Nashville', 'Texas': 'Austin', 'Utah': 'Salt Lake City', 'Vermont':\n",
    "'Montpelier', 'Virginia': 'Richmond', 'Washington': 'Olympia', 'West Virginia': 'Charleston',\n",
    " 'Wisconsin': 'Madison', 'Wyoming': 'Cheyenne'}\n",
    "\n",
    "# Generate 35 quiz files.\n",
    "\n",
    "for quizNum in range(35):\n",
    "\t# Create the quiz and answer key files.\n",
    "\tquizFile = open('questions%s.txt' % (quizNum+1), 'w')\n",
    "\tanswerKeyFile = open('answers%s.txt' % (quizNum+1), 'w')\n",
    "\n",
    "\t# Write out the header for the quiz.\n",
    "\tquizFile.write('Name:\\n\\nDate:\\n\\nPeriod:\\n\\n')\n",
    "\tquizFile.write((' ' * 20) + 'State Capitals Quiz (Form %s)' % (quizNum+1))\n",
    "\tquizFile.write('\\n\\n')\n",
    "\n",
    "\t# Shuffle the order of the states.\n",
    "\tstates = list(capitals.keys())\n",
    "\trandom.shuffle(states)\n",
    "\n",
    "\t# Loop through all 50 states, making a question for each.\n",
    "\tfor questionNum in range(50):\n",
    "\t\t# Get right and wrong answers.\n",
    "\t\tcorrectAnswer = capitals[states[questionNum]]\n",
    "\t\twrongAnswers = list(capitals.values())\n",
    "\t\tdel wrongAnswers[wrongAnswers.index(correctAnswer)]\n",
    "\t\twrongAnswers = random.sample(wrongAnswers,3)\n",
    "\t\tanswerOptions = wrongAnswers + [correctAnswer]\n",
    "\t\trandom.shuffle(answerOptions)\n",
    "\n",
    "\t\t# Write the question and the answer options to the quiz file.\n",
    "\t\tquizFile.write('%s. What is capital of %s?\\n' % (questionNum+1, states[questionNum]))\n",
    "\n",
    "\t\tfor i in range(4):\n",
    "\t\t\tquizFile.write('\t%s. %s\\n' % ('ABCD'[i], answerOptions[i]))\n",
    "\t\tquizFile.write('\\n')\n",
    "\n",
    "\t\t# Write the answer key to a file.\n",
    "\t\tanswerKeyFile.write('%s. %s\\n' % (questionNum+1, 'ABCD'[answerOptions.index(correctAnswer)]))\n",
    "\tquizFile.close()\n",
    "\tanswerKeyFile.close()"
   ]
  },
  {
   "cell_type": "code",
   "execution_count": 5,
   "id": "dad27d63",
   "metadata": {},
   "outputs": [
    {
     "data": {
      "text/plain": [
       "34"
      ]
     },
     "execution_count": 5,
     "metadata": {},
     "output_type": "execute_result"
    }
   ],
   "source": [
    "quizNum\n"
   ]
  },
  {
   "cell_type": "code",
   "execution_count": 6,
   "id": "e3f38b8b",
   "metadata": {},
   "outputs": [
    {
     "data": {
      "text/plain": [
       "<_io.TextIOWrapper name='questions35.txt' mode='w' encoding='cp1252'>"
      ]
     },
     "execution_count": 6,
     "metadata": {},
     "output_type": "execute_result"
    }
   ],
   "source": [
    "quizFile"
   ]
  },
  {
   "cell_type": "code",
   "execution_count": 9,
   "id": "2a764a2d",
   "metadata": {},
   "outputs": [
    {
     "ename": "NameError",
     "evalue": "name 'questiosnum' is not defined",
     "output_type": "error",
     "traceback": [
      "\u001b[1;31m---------------------------------------------------------------------------\u001b[0m",
      "\u001b[1;31mNameError\u001b[0m                                 Traceback (most recent call last)",
      "\u001b[1;32mC:\\Users\\IT'SME~1\\AppData\\Local\\Temp/ipykernel_2224/1209682941.py\u001b[0m in \u001b[0;36m<module>\u001b[1;34m\u001b[0m\n\u001b[1;32m----> 1\u001b[1;33m \u001b[0mquestiosnum\u001b[0m\u001b[1;33m\u001b[0m\u001b[1;33m\u001b[0m\u001b[0m\n\u001b[0m",
      "\u001b[1;31mNameError\u001b[0m: name 'questiosnum' is not defined"
     ]
    }
   ],
   "source": [
    "questiosnum"
   ]
  },
  {
   "cell_type": "code",
   "execution_count": null,
   "id": "bf63ac72",
   "metadata": {},
   "outputs": [],
   "source": []
  }
 ],
 "metadata": {
  "kernelspec": {
   "display_name": "Python 3 (ipykernel)",
   "language": "python",
   "name": "python3"
  },
  "language_info": {
   "codemirror_mode": {
    "name": "ipython",
    "version": 3
   },
   "file_extension": ".py",
   "mimetype": "text/x-python",
   "name": "python",
   "nbconvert_exporter": "python",
   "pygments_lexer": "ipython3",
   "version": "3.9.7"
  }
 },
 "nbformat": 4,
 "nbformat_minor": 5
}
